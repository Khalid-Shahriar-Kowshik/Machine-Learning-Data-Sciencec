{
 "cells": [
  {
   "cell_type": "markdown",
   "id": "66a49fa1-928f-4699-bfb7-6e345d097681",
   "metadata": {},
   "source": [
    "# Linear Regression:\n",
    "Linear regression is a statistical method used to model the relationship between a dependent variable and one or more independent variables (often called predictors or features). Th main goal is to find the best fitting linear equation that can predict the dependent variable based on the vale of independent variable.\n",
    "\n",
    "# Formula:\n",
    "###           y= mx + c\n",
    "\n",
    "           \n",
    "           "
   ]
  },
  {
   "cell_type": "markdown",
   "id": "bf726b04-2ca2-4bf5-9baf-cd5c0e3a19d9",
   "metadata": {},
   "source": [
    "here,\n"
   ]
  },
  {
   "cell_type": "markdown",
   "id": "ddce8970-8c4b-42ec-a7ae-3500edcd15ce",
   "metadata": {},
   "source": [
    "y is the dependent variable "
   ]
  },
  {
   "cell_type": "markdown",
   "id": "52748ef5-9591-424f-bb56-3cc4cc432b72",
   "metadata": {},
   "source": [
    "x is the independent variable"
   ]
  },
  {
   "cell_type": "markdown",
   "id": "1a36e087-3d26-4e19-8c9b-0f50cc2b58c2",
   "metadata": {},
   "source": [
    "m is the slope of the regression line"
   ]
  },
  {
   "cell_type": "markdown",
   "id": "0e1b246d-d7f9-4fbf-93e1-7a1adc8b3dd3",
   "metadata": {},
   "source": [
    "c is the intercept value of regression line"
   ]
  },
  {
   "cell_type": "markdown",
   "id": "84fad9dc-acce-4da6-afdd-f689142aa882",
   "metadata": {},
   "source": [
    "Linear regression is a versatile and widely used technique in both statistics and machine learning. Here are some common scenarios and contexts where you might use linear regression:\n",
    "\n",
    "### 1. **Predicting Continuous Outcomes**\n",
    "\n",
    "Linear regression is primarily used to predict a continuous dependent variable based on one or more independent variables. For example:\n",
    "- **House Prices**: Predict the price of a house based on its features (e.g., size, number of bedrooms, location).\n",
    "- **Sales Forecasting**: Predict future sales based on historical sales data and other influencing factors.\n",
    "- **Stock Prices**: Predict the price of a stock based on historical prices and other financial indicators.\n",
    "\n",
    "### 2. **Understanding Relationships Between Variables**\n",
    "\n",
    "Linear regression helps to understand and quantify the relationship between variables. For example:\n",
    "- **Effect of Advertising**: Understand how different types of advertising (TV, radio, newspaper) affect sales.\n",
    "- **Health Studies**: Analyze how factors like age, weight, and exercise impact blood pressure or cholesterol levels.\n",
    "\n",
    "### 3. **Trend Analysis**\n",
    "\n",
    "Linear regression can be used to identify trends over time. For example:\n",
    "- **Economic Indicators**: Analyze trends in GDP, unemployment rates, or inflation.\n",
    "- **Climate Change**: Study trends in temperature changes, sea levels, and other environmental factors.\n",
    "\n",
    "### 4. **Optimization**\n",
    "\n",
    "Linear regression models can be used in optimization problems where you need to maximize or minimize a certain outcome. For example:\n",
    "- **Resource Allocation**: Optimize the allocation of resources (e.g., budget, manpower) to achieve the best outcomes.\n",
    "- **Marketing Mix Modeling**: Optimize the mix of marketing channels to maximize returns on investment.\n",
    "\n",
    "### 5. **Anomaly Detection**\n",
    "\n",
    "In some cases, linear regression can help in detecting anomalies or outliers in data. For example:\n",
    "- **Quality Control**: Identify defective products by modeling the relationship between manufacturing parameters and product quality.\n",
    "- **Fraud Detection**: Detect fraudulent transactions by modeling normal transaction behavior.\n",
    "\n",
    "### 6. **Simple and Multiple Linear Regression**\n",
    "\n",
    "- **Simple Linear Regression**: Use when you have one independent variable and want to model its relationship with the dependent variable. Example: Predicting a person’s weight based on their height.\n",
    "- **Multiple Linear Regression**: Use when you have more than one independent variable. Example: Predicting a car’s fuel efficiency based on its engine size, weight, and aerodynamics.\n",
    "\n",
    "### 7. **Building Baseline Models**\n",
    "\n",
    "Linear regression is often used to build baseline models before exploring more complex algorithms. It provides a quick way to check if there is a linear relationship and can serve as a reference point for comparing the performance of more advanced models.\n",
    "\n",
    "### 8. **When Assumptions are Met**\n",
    "\n",
    "Linear regression works best when its assumptions are reasonably met:\n",
    "- **Linearity**: The relationship between the independent and dependent variables should be linear.\n",
    "- **Independence**: Observations should be independent of each other.\n",
    "- **Homoscedasticity**: Constant variance of residuals.\n",
    "- **Normality**: Residuals should be normally distributed (for hypothesis testing).\n",
    "\n",
    "### Examples of Use Cases:\n",
    "\n",
    "1. **Business**: Predicting sales, customer behavior analysis, pricing strategies.\n",
    "2. **Healthcare**: Predicting patient outcomes, analyzing the impact of treatments.\n",
    "3. **Finance**: Risk assessment, portfolio management, economic forecasting.\n",
    "4. **Real Estate**: Valuing properties, market trend analysis.\n",
    "5. **Environmental Science**: Analyzing climate data, predicting pollution levels.\n",
    "\n",
    "### When Not to Use Linear Regression:\n",
    "\n",
    "- **Non-Linear Relationships**: If the relationship between the variables is non-linear, consider polynomial regression, decision trees, or other non-linear models.\n",
    "- **Multicollinearity**: When independent variables are highly correlated with each other, it can distort the results.\n",
    "- **Outliers**: Presence of significant outliers can affect the performance of the model.\n",
    "\n",
    "By understanding these scenarios and contexts, you can effectively determine when to use linear regression for your data analysis and predictive modeling tasks."
   ]
  },
  {
   "cell_type": "code",
   "execution_count": 80,
   "id": "f15810b1-a880-4669-85a5-672ba5743fb4",
   "metadata": {},
   "outputs": [],
   "source": [
    "#importing libraries\n",
    "%matplotlib inline\n",
    "import numpy as np\n",
    "import pandas as pd\n",
    "import matplotlib.pyplot as plt\n",
    "from sklearn.metrics import mean_squared_error, mean_absolute_error\n",
    "from sklearn.model_selection import train_test_split as tts\n",
    "#importing linear regression from sklearn library\n",
    "from sklearn.linear_model import LinearRegression"
   ]
  },
  {
   "cell_type": "code",
   "execution_count": 12,
   "id": "6b80b793-c41e-49f7-96bf-bd0c97478bf4",
   "metadata": {},
   "outputs": [],
   "source": [
    "#reading data\n",
    "data = pd.read_csv('PerCapitaIncome.csv')"
   ]
  },
  {
   "cell_type": "code",
   "execution_count": 13,
   "id": "03651860-8e94-4e87-9906-aed5d510886c",
   "metadata": {},
   "outputs": [
    {
     "data": {
      "text/html": [
       "<div>\n",
       "<style scoped>\n",
       "    .dataframe tbody tr th:only-of-type {\n",
       "        vertical-align: middle;\n",
       "    }\n",
       "\n",
       "    .dataframe tbody tr th {\n",
       "        vertical-align: top;\n",
       "    }\n",
       "\n",
       "    .dataframe thead th {\n",
       "        text-align: right;\n",
       "    }\n",
       "</style>\n",
       "<table border=\"1\" class=\"dataframe\">\n",
       "  <thead>\n",
       "    <tr style=\"text-align: right;\">\n",
       "      <th></th>\n",
       "      <th>year</th>\n",
       "      <th>pci</th>\n",
       "    </tr>\n",
       "  </thead>\n",
       "  <tbody>\n",
       "    <tr>\n",
       "      <th>0</th>\n",
       "      <td>1970</td>\n",
       "      <td>3399.299037</td>\n",
       "    </tr>\n",
       "    <tr>\n",
       "      <th>1</th>\n",
       "      <td>1971</td>\n",
       "      <td>3768.297935</td>\n",
       "    </tr>\n",
       "    <tr>\n",
       "      <th>2</th>\n",
       "      <td>1972</td>\n",
       "      <td>4251.175484</td>\n",
       "    </tr>\n",
       "    <tr>\n",
       "      <th>3</th>\n",
       "      <td>1973</td>\n",
       "      <td>4804.463248</td>\n",
       "    </tr>\n",
       "    <tr>\n",
       "      <th>4</th>\n",
       "      <td>1974</td>\n",
       "      <td>5576.514583</td>\n",
       "    </tr>\n",
       "  </tbody>\n",
       "</table>\n",
       "</div>"
      ],
      "text/plain": [
       "   year          pci\n",
       "0  1970  3399.299037\n",
       "1  1971  3768.297935\n",
       "2  1972  4251.175484\n",
       "3  1973  4804.463248\n",
       "4  1974  5576.514583"
      ]
     },
     "execution_count": 13,
     "metadata": {},
     "output_type": "execute_result"
    }
   ],
   "source": [
    "data.head()"
   ]
  },
  {
   "cell_type": "code",
   "execution_count": 14,
   "id": "778e9f43-36b7-41c6-9a7f-25be73e0e1f3",
   "metadata": {},
   "outputs": [
    {
     "data": {
      "text/html": [
       "<div>\n",
       "<style scoped>\n",
       "    .dataframe tbody tr th:only-of-type {\n",
       "        vertical-align: middle;\n",
       "    }\n",
       "\n",
       "    .dataframe tbody tr th {\n",
       "        vertical-align: top;\n",
       "    }\n",
       "\n",
       "    .dataframe thead th {\n",
       "        text-align: right;\n",
       "    }\n",
       "</style>\n",
       "<table border=\"1\" class=\"dataframe\">\n",
       "  <thead>\n",
       "    <tr style=\"text-align: right;\">\n",
       "      <th></th>\n",
       "      <th>year</th>\n",
       "      <th>pci</th>\n",
       "    </tr>\n",
       "  </thead>\n",
       "  <tbody>\n",
       "    <tr>\n",
       "      <th>42</th>\n",
       "      <td>2012</td>\n",
       "      <td>42665.25597</td>\n",
       "    </tr>\n",
       "    <tr>\n",
       "      <th>43</th>\n",
       "      <td>2013</td>\n",
       "      <td>42676.46837</td>\n",
       "    </tr>\n",
       "    <tr>\n",
       "      <th>44</th>\n",
       "      <td>2014</td>\n",
       "      <td>41039.89360</td>\n",
       "    </tr>\n",
       "    <tr>\n",
       "      <th>45</th>\n",
       "      <td>2015</td>\n",
       "      <td>35175.18898</td>\n",
       "    </tr>\n",
       "    <tr>\n",
       "      <th>46</th>\n",
       "      <td>2016</td>\n",
       "      <td>34229.19363</td>\n",
       "    </tr>\n",
       "  </tbody>\n",
       "</table>\n",
       "</div>"
      ],
      "text/plain": [
       "    year          pci\n",
       "42  2012  42665.25597\n",
       "43  2013  42676.46837\n",
       "44  2014  41039.89360\n",
       "45  2015  35175.18898\n",
       "46  2016  34229.19363"
      ]
     },
     "execution_count": 14,
     "metadata": {},
     "output_type": "execute_result"
    }
   ],
   "source": [
    "data.tail()"
   ]
  },
  {
   "cell_type": "code",
   "execution_count": 15,
   "id": "90430c9e-5e3e-45c8-b53a-03d4e6b1fddc",
   "metadata": {},
   "outputs": [
    {
     "data": {
      "text/plain": [
       "10     8355.968120\n",
       "11     9434.390652\n",
       "12     9619.438377\n",
       "13    10416.536590\n",
       "14    10790.328720\n",
       "Name: pci, dtype: float64"
      ]
     },
     "execution_count": 15,
     "metadata": {},
     "output_type": "execute_result"
    }
   ],
   "source": [
    "data[\"pci\"][10:15]"
   ]
  },
  {
   "cell_type": "code",
   "execution_count": 16,
   "id": "56ea19f2-bed2-450d-a6ff-d4bc6a37c794",
   "metadata": {},
   "outputs": [
    {
     "data": {
      "text/plain": [
       "year     1993.000000\n",
       "pci     18920.137063\n",
       "dtype: float64"
      ]
     },
     "execution_count": 16,
     "metadata": {},
     "output_type": "execute_result"
    }
   ],
   "source": [
    "data.mean()"
   ]
  },
  {
   "cell_type": "code",
   "execution_count": 17,
   "id": "4c976a83-22ad-4328-a225-6c5996f42fe9",
   "metadata": {},
   "outputs": [
    {
     "data": {
      "text/html": [
       "<div>\n",
       "<style scoped>\n",
       "    .dataframe tbody tr th:only-of-type {\n",
       "        vertical-align: middle;\n",
       "    }\n",
       "\n",
       "    .dataframe tbody tr th {\n",
       "        vertical-align: top;\n",
       "    }\n",
       "\n",
       "    .dataframe thead th {\n",
       "        text-align: right;\n",
       "    }\n",
       "</style>\n",
       "<table border=\"1\" class=\"dataframe\">\n",
       "  <thead>\n",
       "    <tr style=\"text-align: right;\">\n",
       "      <th></th>\n",
       "      <th>year</th>\n",
       "      <th>pci</th>\n",
       "    </tr>\n",
       "  </thead>\n",
       "  <tbody>\n",
       "    <tr>\n",
       "      <th>count</th>\n",
       "      <td>47.000000</td>\n",
       "      <td>47.000000</td>\n",
       "    </tr>\n",
       "    <tr>\n",
       "      <th>mean</th>\n",
       "      <td>1993.000000</td>\n",
       "      <td>18920.137063</td>\n",
       "    </tr>\n",
       "    <tr>\n",
       "      <th>std</th>\n",
       "      <td>13.711309</td>\n",
       "      <td>12034.679438</td>\n",
       "    </tr>\n",
       "    <tr>\n",
       "      <th>min</th>\n",
       "      <td>1970.000000</td>\n",
       "      <td>3399.299037</td>\n",
       "    </tr>\n",
       "    <tr>\n",
       "      <th>25%</th>\n",
       "      <td>1981.500000</td>\n",
       "      <td>9526.914515</td>\n",
       "    </tr>\n",
       "    <tr>\n",
       "      <th>50%</th>\n",
       "      <td>1993.000000</td>\n",
       "      <td>16426.725480</td>\n",
       "    </tr>\n",
       "    <tr>\n",
       "      <th>75%</th>\n",
       "      <td>2004.500000</td>\n",
       "      <td>27458.601420</td>\n",
       "    </tr>\n",
       "    <tr>\n",
       "      <th>max</th>\n",
       "      <td>2016.000000</td>\n",
       "      <td>42676.468370</td>\n",
       "    </tr>\n",
       "  </tbody>\n",
       "</table>\n",
       "</div>"
      ],
      "text/plain": [
       "              year           pci\n",
       "count    47.000000     47.000000\n",
       "mean   1993.000000  18920.137063\n",
       "std      13.711309  12034.679438\n",
       "min    1970.000000   3399.299037\n",
       "25%    1981.500000   9526.914515\n",
       "50%    1993.000000  16426.725480\n",
       "75%    2004.500000  27458.601420\n",
       "max    2016.000000  42676.468370"
      ]
     },
     "execution_count": 17,
     "metadata": {},
     "output_type": "execute_result"
    }
   ],
   "source": [
    "data.describe()"
   ]
  },
  {
   "cell_type": "code",
   "execution_count": 21,
   "id": "ae0d1ca5-de24-451c-9b51-0c5e31713576",
   "metadata": {},
   "outputs": [
    {
     "data": {
      "text/plain": [
       "Text(0.5, 1.0, 'PCI vs Year')"
      ]
     },
     "execution_count": 21,
     "metadata": {},
     "output_type": "execute_result"
    },
    {
     "data": {
      "image/png": "[encoded data removed]",
      "text/plain": [
       "<Figure size 1600x1200 with 1 Axes>"
      ]
     },
     "metadata": {},
     "output_type": "display_data"
    }
   ],
   "source": [
    "plt.figure(figsize=(16, 12))\n",
    "plt.scatter(data.year, data.pci, marker='o', color='red')\n",
    "plt.xlabel('Year', fontsize = 20, color = 'black', fontweight = 'bold')\n",
    "plt.ylabel('Per capita income', fontsize = 20, color = 'black', fontweight = 'bold')\n",
    "plt.title('PCI vs Year', fontsize = 20, color = 'black', fontweight = 'bold')"
   ]
  },
  {
   "cell_type": "code",
   "execution_count": 69,
   "id": "b4f06e75-46f7-409e-97a9-3f9995594329",
   "metadata": {},
   "outputs": [],
   "source": [
    "x=data[\"year\"].values\n",
    "y=data['pci'].values\n",
    "x_train, x_test, y_train, y_test = tts(x, y, test_size = 0.4, random_state = 23)\n",
    "                                       \n",
    "\"\"\" \n",
    "the linear regression from sklearn library needs 2D arrays. \n",
    "we are simply converting x_train and y_train to 2D arrays to ensure that there is no errors\n",
    "\"\"\"                                  \n",
    "x_train = x_train.reshape(-1, 1)\n",
    "y_train = y_train.reshape(-1, 1)\n",
    "#another way to reshape using numpy\n",
    "x_test = np.array(x_test).reshape(-1,1)\n",
    "y_test = np.array(y_test).reshape(-1,1)"
   ]
  },
  {
   "cell_type": "code",
   "execution_count": 56,
   "id": "98ba02d8-9544-4369-a3bb-5a870d4a87c2",
   "metadata": {},
   "outputs": [],
   "source": [
    "LR = LinearRegression()\n",
    "LR.fit(x_train, y_train)\n",
    "\n",
    "#calculating the value of m and c using functions for sklearn library\n",
    "m = LR.coef_\n",
    "c = LR.intercept_\n",
    "\n",
    "#calculating linear regression line\n",
    "y = LR.predict(x_train)"
   ]
  },
  {
   "cell_type": "code",
   "execution_count": 60,
   "id": "e08aa627-0e38-4b2f-916a-3553e9997fe4",
   "metadata": {},
   "outputs": [
    {
     "data": {
      "text/plain": [
       "<matplotlib.collections.PathCollection at 0x19e0d11d650>"
      ]
     },
     "execution_count": 60,
     "metadata": {},
     "output_type": "execute_result"
    },
    {
     "data": {
      "image/png": "[encoded data removed]",
      "text/plain": [
       "<Figure size 640x480 with 1 Axes>"
      ]
     },
     "metadata": {},
     "output_type": "display_data"
    }
   ],
   "source": [
    "plt.plot(x_train, y, color = 'green', linewidth = 3)\n",
    "plt.scatter(data.year, data.pci, marker='o', color='red')"
   ]
  },
  {
   "cell_type": "code",
   "execution_count": 72,
   "id": "e0f8b85c-26b2-494b-95cf-a87dba3570fb",
   "metadata": {},
   "outputs": [
    {
     "data": {
      "text/plain": [
       "0.8873738482799357"
      ]
     },
     "execution_count": 72,
     "metadata": {},
     "output_type": "execute_result"
    }
   ],
   "source": [
    "# R square evaluation of model\n",
    "x=x.reshape(-1,1)\n",
    "y=y.reshape(-1,1)\n",
    "\n",
    "LR.score(x,y)"
   ]
  },
  {
   "cell_type": "markdown",
   "id": "6be8ff7d-0584-4e25-9adc-71ea432b5a12",
   "metadata": {},
   "source": [
    "# Useful Resources: \n",
    "https://www.youtube.com/watch?v=feDJkDaNuOk \n",
    "\n",
    "https://www.youtube.com/watch?v=NUXdtN1W1FE&t=395s\n",
    "\n",
    "https://www.youtube.com/watch?v=D2wxUijv9e0\n"
   ]
  },
  {
   "cell_type": "code",
   "execution_count": 77,
   "id": "c30d06f0-0d61-4f0f-9d8e-d3f288d6a84b",
   "metadata": {},
   "outputs": [
    {
     "data": {
      "text/plain": [
       "15244808.294102326"
      ]
     },
     "execution_count": 77,
     "metadata": {},
     "output_type": "execute_result"
    }
   ],
   "source": [
    "# mean square error\n",
    "pred = LR.predict(x_test)\n",
    "pred\n",
    "mse = mean_squared_error(y_test, pred)\n",
    "mse"
   ]
  },
  {
   "cell_type": "code",
   "execution_count": 76,
   "id": "a73d5069-0b43-4d0e-8624-b6390875efd0",
   "metadata": {},
   "outputs": [
    {
     "data": {
      "text/plain": [
       "2948.6817722142373"
      ]
     },
     "execution_count": 76,
     "metadata": {},
     "output_type": "execute_result"
    }
   ],
   "source": [
    "# mean absolute error\n",
    "mae = mean_absolute_error(y_test, pred)\n",
    "mae"
   ]
  }
 ],
 "metadata": {
  "kernelspec": {
   "display_name": "Python 3 (ipykernel)",
   "language": "python",
   "name": "python3"
  },
  "language_info": {
   "codemirror_mode": {
    "name": "ipython",
    "version": 3
   },
   "file_extension": ".py",
   "mimetype": "text/x-python",
   "name": "python",
   "nbconvert_exporter": "python",
   "pygments_lexer": "ipython3",
   "version": "3.11.7"
  }
 },
 "nbformat": 4,
 "nbformat_minor": 5
}
